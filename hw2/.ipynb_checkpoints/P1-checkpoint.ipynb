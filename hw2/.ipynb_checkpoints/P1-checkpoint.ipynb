{
 "cells": [
  {
   "cell_type": "markdown",
   "metadata": {},
   "source": [
    "## Logistic Regression\n",
    "\n",
    "### Part a\n",
    "Use a gradient descent method to optimize the logistic regression (LR) objective, with L2 regularization on the weight vector. For L2 regularization, the objective function (error of LR) should be of the form\n",
    "\n",
    "$$ E_{LR}(w, w_0) = -\\mathcal{L}(w, w_0) + \\lambda \\parallel w\\parallel_2^2$$\n",
    "where\n",
    "$$ \\parallel w\\parallel = \\sqrt{(w_1^2 + ... w_n^2)}$$\n",
    "and\n",
    "$$ \\mathcal{L}(w, w_0) = -\\sum_i{\\log{(1+\\exp(-y_i(w^Tx_i + w_0)))}} $$\n",
    "Using your code to perform gradient descent, train your model parameters (w, w0) using the training data from data1 train.csv with $\\lambda = 0$.\n",
    "\n",
    "1. What happens to the weight vector as a function of the number of iteration of gradient descent?\n",
    "2. What happens when λ = 1? Explain."
   ]
  },
  {
   "cell_type": "code",
   "execution_count": null,
   "metadata": {
    "collapsed": true
   },
   "outputs": [],
   "source": [
    "import sklearn as sk\n",
    "import numpy as np\n",
    "import matplotlib as plt\n",
    "from plotBoundary import *\n",
    "import pylab as pl\n",
    "\n",
    "# import your LR training code\n",
    "def LR(x):\n",
    "    \n",
    "# parameters\n",
    "name = 'ls'\n",
    "print '======Training======'\n",
    "# load data from csv files\n",
    "train = loadtxt('hw2_resources/data/data'+name+'_train.csv')\n",
    "X = train[:,0:2]\n",
    "Y = train[:,2:3]\n",
    "\n",
    "# Carry out training.\n",
    "### TODO ###\n",
    "\n",
    "# Define the predictLR(x) function, which uses trained parameters\n",
    "def predictLR(x) :\n",
    "    return\n",
    "\n",
    "\n",
    "# plot training results\n",
    "plotDecisionBoundary(X, Y, predictLR, [0.5], title = 'LR Train')\n",
    "\n",
    "print '======Validation======'\n",
    "# load data from csv files\n",
    "validate = loadtxt('hw2_resources/data/data'+name+'_validate.csv')\n",
    "X = validate[:,0:2]\n",
    "Y = validate[:,2:3]\n",
    "\n",
    "# plot validation results\n",
    "plotDecisionBoundary(X, Y, predictLR, [0.5], title = 'LR Validate')\n",
    "pl.show()\n"
   ]
  }
 ],
 "metadata": {
  "kernelspec": {
   "display_name": "Python 2",
   "language": "python",
   "name": "python2"
  },
  "language_info": {
   "codemirror_mode": {
    "name": "ipython",
    "version": 2
   },
   "file_extension": ".py",
   "mimetype": "text/x-python",
   "name": "python",
   "nbconvert_exporter": "python",
   "pygments_lexer": "ipython2",
   "version": "2.7.13"
  }
 },
 "nbformat": 4,
 "nbformat_minor": 2
}
