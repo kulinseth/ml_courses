{
 "cells": [
  {
   "cell_type": "code",
   "execution_count": 63,
   "metadata": {
    "collapsed": false,
    "scrolled": true
   },
   "outputs": [
    {
     "name": "stdout",
     "output_type": "stream",
     "text": [
      "          0                                                  1\n",
      "0  0000.jpg  0,0,0,0,0,0,0,0,0,0,0,0,0,0,0,0,1,0,0,0,0,0,0,...\n",
      "1  0001.jpg  0,0,0,0,0,0,0,0,1,0,0,0,0,0,0,0,0,0,0,0,0,0,0,...\n",
      "2  0002.jpg  0,0,0,0,0,1,0,0,0,1,0,0,0,0,0,0,0,0,0,0,0,0,0,...\n",
      "3  0003.jpg  0,0,0,0,0,0,0,0,0,0,0,0,0,0,0,0,0,0,0,0,0,0,0,...\n",
      "4  0004.jpg  0,0,0,0,0,0,0,0,0,0,1,1,1,0,0,0,1,0,0,1,0,0,0,...\n"
     ]
    },
    {
     "ename": "ValueError",
     "evalue": "Length mismatch: Expected axis has 2 elements, new values have 102 elements",
     "output_type": "error",
     "traceback": [
      "\u001b[1;31m---------------------------------------------------------------------------\u001b[0m",
      "\u001b[1;31mValueError\u001b[0m                                Traceback (most recent call last)",
      "\u001b[1;32m<ipython-input-63-c3e91cb36883>\u001b[0m in \u001b[0;36m<module>\u001b[1;34m()\u001b[0m\n\u001b[0;32m     49\u001b[0m     \u001b[1;32mprint\u001b[0m \u001b[0mattr_train\u001b[0m\u001b[1;33m.\u001b[0m\u001b[0mhead\u001b[0m\u001b[1;33m(\u001b[0m\u001b[1;33m)\u001b[0m\u001b[1;33m\u001b[0m\u001b[0m\n\u001b[0;32m     50\u001b[0m \u001b[1;33m\u001b[0m\u001b[0m\n\u001b[1;32m---> 51\u001b[1;33m     \u001b[0mattr_train\u001b[0m\u001b[1;33m.\u001b[0m\u001b[0mcolumns\u001b[0m \u001b[1;33m=\u001b[0m \u001b[0mattr_list\u001b[0m\u001b[1;33m[\u001b[0m\u001b[1;36m0\u001b[0m\u001b[1;33m]\u001b[0m\u001b[1;33m\u001b[0m\u001b[0m\n\u001b[0m\u001b[0;32m     52\u001b[0m     \u001b[0mattr_test\u001b[0m\u001b[1;33m.\u001b[0m\u001b[0mcolumns\u001b[0m \u001b[1;33m=\u001b[0m \u001b[0mattr_list\u001b[0m\u001b[1;33m[\u001b[0m\u001b[1;36m0\u001b[0m\u001b[1;33m]\u001b[0m\u001b[1;33m\u001b[0m\u001b[0m\n\u001b[0;32m     53\u001b[0m \u001b[1;33m\u001b[0m\u001b[0m\n",
      "\u001b[1;32m/home/kulinseth/anaconda/lib/python2.7/site-packages/pandas/core/generic.py\u001b[0m in \u001b[0;36m__setattr__\u001b[1;34m(self, name, value)\u001b[0m\n\u001b[0;32m   2255\u001b[0m         \u001b[1;32mtry\u001b[0m\u001b[1;33m:\u001b[0m\u001b[1;33m\u001b[0m\u001b[0m\n\u001b[0;32m   2256\u001b[0m             \u001b[0mobject\u001b[0m\u001b[1;33m.\u001b[0m\u001b[0m__getattribute__\u001b[0m\u001b[1;33m(\u001b[0m\u001b[0mself\u001b[0m\u001b[1;33m,\u001b[0m \u001b[0mname\u001b[0m\u001b[1;33m)\u001b[0m\u001b[1;33m\u001b[0m\u001b[0m\n\u001b[1;32m-> 2257\u001b[1;33m             \u001b[1;32mreturn\u001b[0m \u001b[0mobject\u001b[0m\u001b[1;33m.\u001b[0m\u001b[0m__setattr__\u001b[0m\u001b[1;33m(\u001b[0m\u001b[0mself\u001b[0m\u001b[1;33m,\u001b[0m \u001b[0mname\u001b[0m\u001b[1;33m,\u001b[0m \u001b[0mvalue\u001b[0m\u001b[1;33m)\u001b[0m\u001b[1;33m\u001b[0m\u001b[0m\n\u001b[0m\u001b[0;32m   2258\u001b[0m         \u001b[1;32mexcept\u001b[0m \u001b[0mAttributeError\u001b[0m\u001b[1;33m:\u001b[0m\u001b[1;33m\u001b[0m\u001b[0m\n\u001b[0;32m   2259\u001b[0m             \u001b[1;32mpass\u001b[0m\u001b[1;33m\u001b[0m\u001b[0m\n",
      "\u001b[1;32mpandas/src/properties.pyx\u001b[0m in \u001b[0;36mpandas.lib.AxisProperty.__set__ (pandas/lib.c:44611)\u001b[1;34m()\u001b[0m\n",
      "\u001b[1;32m/home/kulinseth/anaconda/lib/python2.7/site-packages/pandas/core/generic.py\u001b[0m in \u001b[0;36m_set_axis\u001b[1;34m(self, axis, labels)\u001b[0m\n\u001b[0;32m    422\u001b[0m \u001b[1;33m\u001b[0m\u001b[0m\n\u001b[0;32m    423\u001b[0m     \u001b[1;32mdef\u001b[0m \u001b[0m_set_axis\u001b[0m\u001b[1;33m(\u001b[0m\u001b[0mself\u001b[0m\u001b[1;33m,\u001b[0m \u001b[0maxis\u001b[0m\u001b[1;33m,\u001b[0m \u001b[0mlabels\u001b[0m\u001b[1;33m)\u001b[0m\u001b[1;33m:\u001b[0m\u001b[1;33m\u001b[0m\u001b[0m\n\u001b[1;32m--> 424\u001b[1;33m         \u001b[0mself\u001b[0m\u001b[1;33m.\u001b[0m\u001b[0m_data\u001b[0m\u001b[1;33m.\u001b[0m\u001b[0mset_axis\u001b[0m\u001b[1;33m(\u001b[0m\u001b[0maxis\u001b[0m\u001b[1;33m,\u001b[0m \u001b[0mlabels\u001b[0m\u001b[1;33m)\u001b[0m\u001b[1;33m\u001b[0m\u001b[0m\n\u001b[0m\u001b[0;32m    425\u001b[0m         \u001b[0mself\u001b[0m\u001b[1;33m.\u001b[0m\u001b[0m_clear_item_cache\u001b[0m\u001b[1;33m(\u001b[0m\u001b[1;33m)\u001b[0m\u001b[1;33m\u001b[0m\u001b[0m\n\u001b[0;32m    426\u001b[0m \u001b[1;33m\u001b[0m\u001b[0m\n",
      "\u001b[1;32m/home/kulinseth/anaconda/lib/python2.7/site-packages/pandas/core/internals.py\u001b[0m in \u001b[0;36mset_axis\u001b[1;34m(self, axis, new_labels)\u001b[0m\n\u001b[0;32m   2458\u001b[0m         \u001b[1;32mif\u001b[0m \u001b[0mnew_len\u001b[0m \u001b[1;33m!=\u001b[0m \u001b[0mold_len\u001b[0m\u001b[1;33m:\u001b[0m\u001b[1;33m\u001b[0m\u001b[0m\n\u001b[0;32m   2459\u001b[0m             raise ValueError('Length mismatch: Expected axis has %d elements, '\n\u001b[1;32m-> 2460\u001b[1;33m                              'new values have %d elements' % (old_len, new_len))\n\u001b[0m\u001b[0;32m   2461\u001b[0m \u001b[1;33m\u001b[0m\u001b[0m\n\u001b[0;32m   2462\u001b[0m         \u001b[0mself\u001b[0m\u001b[1;33m.\u001b[0m\u001b[0maxes\u001b[0m\u001b[1;33m[\u001b[0m\u001b[0maxis\u001b[0m\u001b[1;33m]\u001b[0m \u001b[1;33m=\u001b[0m \u001b[0mnew_labels\u001b[0m\u001b[1;33m\u001b[0m\u001b[0m\n",
      "\u001b[1;31mValueError\u001b[0m: Length mismatch: Expected axis has 2 elements, new values have 102 elements"
     ]
    }
   ],
   "source": [
    "import numpy as np\n",
    "import pandas as pd\n",
    "import matplotlib.cm as cm\n",
    "from scipy import misc\n",
    "from matplotlib import pylab as plt\n",
    "from sklearn.naive_bayes import MultinomialNB\n",
    "from sklearn.linear_model import LogisticRegression, LogisticRegressionCV\n",
    "from sklearn import cross_validation\n",
    "from sklearn.manifold import TSNE\n",
    "from sklearn.decomposition import PCA\n",
    "from sklearn.cluster import KMeans\n",
    "from sklearn.svm import LinearSVC, SVC\n",
    "from sklearn.multiclass import OneVsRestClassifier\n",
    "from sklearn.preprocessing import StandardScaler\n",
    "%matplotlib inline\n",
    "\n",
    "def alexnet_pipeline(X, train_y, test_X):\n",
    "    \"\"\"\n",
    "    The features given are after all the Convolution layers and FC NN\n",
    "    layers have been trained on the images. So after that the result is\n",
    "    passed through the Softmax linear classifier. This is similar to running\n",
    "    multinomial logistic regression on the test data set.\n",
    "    \"\"\"\n",
    "    logreg = LogisticRegression(C=1e3, multi_class='multinomial', solver='lbfgs')\n",
    "    logfit = logreg.fit(X, train_y)\n",
    "    T = logfit.predict_proba(test_X)\n",
    "    predict_test = logfit.predict(test_X)\n",
    "    #print cross_validation.cross_val_score(logreg, X, train_y, cv=10)\n",
    "    #[ 0.9575  0.9775  0.9575  0.9775  0.975   0.955   0.97    0.98    0.965 0.94  ]\n",
    "    \n",
    "def sift_pipeline():\n",
    "    pass\n",
    "\n",
    "def attr_analysis():\n",
    "    pass\n",
    "\n",
    "if __name__ == '__main__':\n",
    "    alexnet_train_np = np.load('CS5785-final-data//alexnet_feat_train.npy')\n",
    "    alexnet_test_np = np.load('CS5785-final-data//alexnet_feat_test.npy')\n",
    "    sift_train_np    = np.load('CS5785-final-data//SIFTBoW_train.npy')\n",
    "    sift_test_np = np.load('CS5785-final-data//SIFTBoW_test.npy')\n",
    "\n",
    "    image0001  = misc.imread('CS5785-final-data//images//train//0001.jpg')\n",
    "    \n",
    "    y_train_df = pd.read_csv('CS5785-final-data//train.txt', sep=' ', header=None)\n",
    "    attr_list  = pd.read_csv('CS5785-final-data//attributes_list.txt', header=None)\n",
    "    attr_train = pd.read_csv('CS5785-final-data//attributes_train.txt', delim_whitespace=True,header=None)\n",
    "    attr_test = pd.read_csv('CS5785-final-data//attributes_test.txt', delim_whitespace=True, header=None)\n",
    "    print attr_train.head()\n",
    "\n",
    "    #attr_train.columns = attr_list[0]\n",
    "    #attr_test.columns = attr_list[0]\n",
    "    \n",
    "    #alexnet_train_pd = pd.DataFrame(alexnet_train_np)\n",
    "    #sift_train_pd = pd.DataFrame()\n",
    "    #print y_train_df.head()\n",
    "    #print len(set(y_train_df[1]))\n",
    "    #plt.imshow(alexnet_train_np[0].reshape(32,32))\n",
    "    #plt.show()\n",
    "    \n",
    "    #alexnet_pipeline(alexnet_train_np, y_train_df[1], alexnet_test_np)\n",
    "    \n",
    "    #tsne_model = TSNE(n_components=2, n_iter=200)\n",
    "    #Y = tsne_model.fit_transform(alexnet_train_np)\n",
    "    #plt.scatter(Y[:,0], Y[:,1])\n",
    "    #plt.show()"
   ]
  },
  {
   "cell_type": "code",
   "execution_count": 47,
   "metadata": {
    "collapsed": false
   },
   "outputs": [],
   "source": [
    "    #plt.hist(sift_train_np[7], bins=16)\n",
    "    #plt.show()\n",
    "    #plt.hist2d(sift_train_np[0], sift_train_np[1], bins=16)\n",
    "    #plt.show()\n",
    "    \n",
    "    #sift_train_pca = PCA(n_components=200).fit(sift_train_np)\n",
    "    #sift_test_pca = PCA(n_components=200).fit(sift_test_np)\n",
    "    #sift_train_cov = sift_train_pca.get_covariance()\n",
    "    #sift_test_cov = sift_test_pca.get_covariance()\n",
    "    #print sift_train_pca.explained_variance_ratio_[:16]\n",
    "    #print sift_test_pca.explained_variance_ratio_[:16]\n",
    "    #plt.plot(sift_train_pca.explained_variance_ratio_)\n",
    "    #plt.show()\n",
    "    #plt.plot(sift_test_pca.explained_variance_ratio_)\n",
    "    #plt.show()\n",
    "    \n",
    "    #print sift_train_cov.shape\n",
    "    #plt.pcolor(sift_train_cov)\n",
    "    #plt.colorbar()\n",
    "    #plt.yticks(arange(0.5,10.5),range(0,sift_train_cov.shape[1]))\n",
    "    #plt.xticks(arange(0.5,10.5),range(0,sift_train_cov.shape[0]))\n",
    "    #plt.yticks()\n",
    "    #plt.xticks()\n",
    "    \n",
    "    #plt.show()"
   ]
  },
  {
   "cell_type": "code",
   "execution_count": 48,
   "metadata": {
    "collapsed": false
   },
   "outputs": [
    {
     "name": "stdout",
     "output_type": "stream",
     "text": [
      "(48000, 256)\n",
      "(3000, 256)\n",
      "(200, 256)\n",
      "[145 160 177 ...,  69   4  40]\n"
     ]
    }
   ],
   "source": [
    "    # To plot the covariance matrix\n",
    "    #plt.pcolor(sift_train_cov)\n",
    "    #plt.colorbar()\n",
    "    #plt.show()\n",
    "    \n",
    "    # Clustering the SIFT data as 256 dimensional 16 vectors stacked together.\n",
    "    sift_data = np.vstack(([sift_train_np[i].reshape(16,256) for i in range(sift_train_np.shape[0])]))\n",
    "    print sift_data.shape\n",
    "    #np.random.seed(17)\n",
    "    #kmeans = KMeans(n_clusters=200)\n",
    "    #kmeans = kmeans.fit(sift_data)\n",
    "    #print kmeans.score\n",
    "\n",
    "    clf = OneVsRestClassifier(SVC(probability=True))\n",
    "    lclf = LinearSVC()\n",
    "    #sift_test_labels = lclf.fit(sift_train_np, y_train_df[1]).predict(sift_test_np)\n",
    "    #sift_test_proba = clf.fit(sift_train_np, y_train_df[1]).predict_proba(sift_test_np)\n",
    "    #print sift_test_proba.shape\n",
    "    #print sift_test_labels\n",
    "    \n",
    "\n",
    "    #print cross_validation.cross_val_score(clf, sift_train_np, y_train_df[1], cv=3, n_jobs=2)\n",
    "\n",
    "    sift_hist_train = np.vstack([np.histogram(x, bins=256)[0] for x in sift_train_np])\n",
    "    sift_hist_test = np.vstack([np.histogram(x, bins=256)[0] for x in sift_test_np])\n",
    "    #sift_pipeline(sift_hist_train, y_train_df[1], sift_hist_test)\n",
    "    sift_hist_train_ss = StandardScaler().fit_transform(sift_hist_train)\n",
    "    print sift_hist_train_ss.shape\n",
    "    #print sift_hist_train_ss[0]\n",
    "    svm = LinearSVC(C=1e3)\n",
    "    #svm = svm.fit(sift_hist_train_ss, train_y)\n",
    "    #predict_test = svm.predict(test_X)\n",
    "    #print cross_validation.cross_val_score(svm, sift_hist_train_ss, y_train_df[1], cv=3)\n",
    "    #print predict_test[:10]\n",
    "\n",
    "    np.random.seed(17)\n",
    "    kmeans = KMeans(n_clusters=200)\n",
    "    kmeans = kmeans.fit(sift_hist_train)\n",
    "    kmeans_cc = kmeans.cluster_centers_\n",
    "    print kmeans_cc.shape\n",
    "    print kmeans.labels_"
   ]
  },
  {
   "cell_type": "code",
   "execution_count": 51,
   "metadata": {
    "collapsed": false
   },
   "outputs": [
    {
     "name": "stderr",
     "output_type": "stream",
     "text": [
      "/home/kulinseth/anaconda/lib/python2.7/site-packages/matplotlib/collections.py:590: FutureWarning: elementwise comparison failed; returning scalar instead, but in the future will perform elementwise comparison\n",
      "  if self._edgecolors == str('face'):\n"
     ]
    },
    {
     "data": {
      "image/png": "[encoded data removed]",
      "text/plain": [
       "<matplotlib.figure.Figure at 0x7fc7712f4450>"
      ]
     },
     "metadata": {},
     "output_type": "display_data"
    }
   ],
   "source": [
    "    #print (kmeans.labels_[:50])\n",
    "    #print (y_train_df[1][:50])\n",
    "    tsne_model = TSNE(n_components=2, n_iter=200)\n",
    "    Y = tsne_model.fit_transform(sift_train_np)\n",
    "    plt.scatter(Y[:,0], Y[:,1])\n",
    "    plt.show()    "
   ]
  },
  {
   "cell_type": "code",
   "execution_count": null,
   "metadata": {
    "collapsed": true
   },
   "outputs": [],
   "source": []
  }
 ],
 "metadata": {
  "kernelspec": {
   "display_name": "Python 2",
   "language": "python",
   "name": "python2"
  },
  "language_info": {
   "codemirror_mode": {
    "name": "ipython",
    "version": 2
   },
   "file_extension": ".py",
   "mimetype": "text/x-python",
   "name": "python",
   "nbconvert_exporter": "python",
   "pygments_lexer": "ipython2",
   "version": "2.7.10"
  }
 },
 "nbformat": 4,
 "nbformat_minor": 0
}
