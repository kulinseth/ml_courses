{
 "cells": [
  {
   "cell_type": "code",
   "execution_count": 1,
   "metadata": {
    "collapsed": false
   },
   "outputs": [
    {
     "name": "stdout",
     "output_type": "stream",
     "text": [
      "   PassengerId  Survived  Pclass  \\\n",
      "0            1         0       3   \n",
      "1            2         1       1   \n",
      "2            3         1       3   \n",
      "3            4         1       1   \n",
      "4            5         0       3   \n",
      "\n",
      "                                                Name     Sex  Age  SibSp  \\\n",
      "0                            Braund, Mr. Owen Harris    male   22      1   \n",
      "1  Cumings, Mrs. John Bradley (Florence Briggs Th...  female   38      1   \n",
      "2                             Heikkinen, Miss. Laina  female   26      0   \n",
      "3       Futrelle, Mrs. Jacques Heath (Lily May Peel)  female   35      1   \n",
      "4                           Allen, Mr. William Henry    male   35      0   \n",
      "\n",
      "   Parch            Ticket     Fare Cabin Embarked  \n",
      "0      0         A/5 21171   7.2500   NaN        S  \n",
      "1      0          PC 17599  71.2833   C85        C  \n",
      "2      0  STON/O2. 3101282   7.9250   NaN        S  \n",
      "3      0            113803  53.1000  C123        S  \n",
      "4      0            373450   8.0500   NaN        S  \n",
      "   PassengerId  Pclass                                          Name     Sex  \\\n",
      "0          892       3                              Kelly, Mr. James    male   \n",
      "1          893       3              Wilkes, Mrs. James (Ellen Needs)  female   \n",
      "2          894       2                     Myles, Mr. Thomas Francis    male   \n",
      "3          895       3                              Wirz, Mr. Albert    male   \n",
      "4          896       3  Hirvonen, Mrs. Alexander (Helga E Lindqvist)  female   \n",
      "\n",
      "    Age  SibSp  Parch   Ticket     Fare Cabin Embarked  \n",
      "0  34.5      0      0   330911   7.8292   NaN        Q  \n",
      "1  47.0      1      0   363272   7.0000   NaN        S  \n",
      "2  62.0      0      0   240276   9.6875   NaN        Q  \n",
      "3  27.0      0      0   315154   8.6625   NaN        S  \n",
      "4  22.0      1      1  3101298  12.2875   NaN        S  \n"
     ]
    }
   ],
   "source": [
    "import pandas as pd\n",
    "import numpy as np\n",
    "from sklearn.linear_model import LogisticRegression\n",
    "from sklearn.naive_bayes import GaussianNB\n",
    "from sklearn.ensemble import RandomForestClassifier\n",
    "from sklearn.ensemble import VotingClassifier\n",
    "from sklearn.neighbors import NearestNeighbors, KNeighborsClassifier\n",
    "\n",
    "train = pd.read_csv('train.csv')\n",
    "test = pd.read_csv('test.csv')\n",
    "print train.head()\n",
    "print test.head()"
   ]
  },
  {
   "cell_type": "code",
   "execution_count": 2,
   "metadata": {
    "collapsed": false
   },
   "outputs": [
    {
     "name": "stderr",
     "output_type": "stream",
     "text": [
      "/Users/spreeth/anaconda/lib/python2.7/site-packages/pandas/core/indexing.py:426: SettingWithCopyWarning: \n",
      "A value is trying to be set on a copy of a slice from a DataFrame.\n",
      "Try using .loc[row_indexer,col_indexer] = value instead\n",
      "\n",
      "See the caveats in the documentation: http://pandas.pydata.org/pandas-docs/stable/indexing.html#indexing-view-versus-copy\n",
      "  self.obj[item] = s\n",
      "/Users/spreeth/anaconda/lib/python2.7/site-packages/pandas/core/frame.py:2320: SettingWithCopyWarning: \n",
      "A value is trying to be set on a copy of a slice from a DataFrame.\n",
      "Try using .loc[row_indexer,col_indexer] = value instead\n",
      "\n",
      "See the caveats in the documentation: http://pandas.pydata.org/pandas-docs/stable/indexing.html#indexing-view-versus-copy\n",
      "  self[k1] = value[k2]\n"
     ]
    }
   ],
   "source": [
    "train_X = train[['Sex', 'Age', 'SibSp', 'Pclass', 'Fare', 'Parch', 'Embarked']]   # the columns which affect the survival\n",
    "test_X = test[['Sex', 'Age', 'SibSp', 'Pclass', 'Fare', 'Parch', 'Embarked']]\n",
    "train_y = train['Survived']\n",
    "train_X.loc[:, 'Sex'] = train_X['Sex'].astype('category')\n",
    "train_X.loc[:, 'Embarked'] = train_X['Embarked'].astype('category')\n",
    "test_X.loc[:, 'Sex'] = test_X['Sex'].astype('category')\n",
    "test_X.loc[:, 'Embarked'] = test_X['Embarked'].astype('category')\n",
    "\n",
    "# Selecting the category columns\n",
    "train_X_cat_cols = train_X.select_dtypes(['category']).columns\n",
    "train_X[train_X_cat_cols] = train_X[train_X_cat_cols].apply(lambda x : x.cat.codes) \n",
    "test_X[train_X_cat_cols] = test_X[train_X_cat_cols].apply(lambda x : x.cat.codes) "
   ]
  },
  {
   "cell_type": "code",
   "execution_count": 3,
   "metadata": {
    "collapsed": false
   },
   "outputs": [
    {
     "name": "stdout",
     "output_type": "stream",
     "text": [
      "[ 0.77094972  0.7877095   0.78089888  0.76404494  0.81920904]\n",
      "[ 0.79888268  0.80446927  0.83146067  0.81460674  0.80225989]\n",
      "[ 0.7877095   0.79888268  0.81460674  0.78651685  0.78531073]\n"
     ]
    },
    {
     "name": "stderr",
     "output_type": "stream",
     "text": [
      "/Users/spreeth/anaconda/lib/python2.7/site-packages/ipykernel/__main__.py:6: SettingWithCopyWarning: \n",
      "A value is trying to be set on a copy of a slice from a DataFrame.\n",
      "Try using .loc[row_indexer,col_indexer] = value instead\n",
      "\n",
      "See the caveats in the documentation: http://pandas.pydata.org/pandas-docs/stable/indexing.html#indexing-view-versus-copy\n"
     ]
    }
   ],
   "source": [
    "def LogRegModel(X, y, C) :\n",
    "    theta = np.zeros(1, (X.size(1)))\n",
    "    def Hypothesis (y, yhat):\n",
    "        return np.exp(- np.dot((y-yhat), (y-yhat))/2)\n",
    "                     \n",
    "    def CostFunction(X, y):\n",
    "        yhat\n",
    "        return -(np.dot(y, np.log(Hypothesis(y, yhat))) + \n",
    "                        np.dot(1-y, np.log(1-Hypothesis(y, yhat))))\n",
    "\n",
    "    def Optimization():\n",
    "\n",
    "    \n",
    "\n",
    "from sklearn.cross_validation import cross_val_score\n",
    "train_X = train_X.fillna(train_X.mean()['Age'])\n",
    "test_X = test_X.fillna(test_X.mean()['Age'])\n",
    "\n",
    "train_X_sub = train_X[['Sex', 'Age', 'Pclass', 'Fare']]\n",
    "train_X_sub['Sibsp+Parch'] = train_X['Parch'] + train_X['SibSp']\n",
    "\n",
    "rfc = RandomForestClassifier(random_state=123)\n",
    "gnb = GaussianNB()\n",
    "logreg = LogisticRegression(C=1e1, random_state=123)\n",
    "eclf = VotingClassifier(estimators=[('lr', logreg), ('rf', rfc)],\n",
    "                        voting='soft',\n",
    "                        weights=[1, 2])\n",
    "\n",
    "logreg = logreg.fit(train_X.values, train_y.values)\n",
    "eclf = eclf.fit(train_X.values, train_y.values)\n",
    "rfc = rfc.fit(train_X.values, train_y.values)\n",
    "cross_vals = cross_val_score(logreg, train_X.values, train_y.values, cv=5)\n",
    "cross_vals_eclf = cross_val_score(eclf, train_X.values, train_y.values, cv=5)\n",
    "cross_vals_rfc = cross_val_score(rfc, train_X.values, train_y.values, cv=5)\n",
    "\n",
    "print cross_vals\n",
    "print cross_vals_eclf\n",
    "print cross_vals_rfc"
   ]
  },
  {
   "cell_type": "code",
   "execution_count": 4,
   "metadata": {
    "collapsed": false
   },
   "outputs": [],
   "source": [
    "logreg_decision_fn = logreg.decision_function(test_X.values)"
   ]
  },
  {
   "cell_type": "code",
   "execution_count": 7,
   "metadata": {
    "collapsed": false
   },
   "outputs": [
    {
     "name": "stdout",
     "output_type": "stream",
     "text": [
      "[ 0.64804469  0.73184358  0.71910112  0.73595506  0.69491525]\n"
     ]
    }
   ],
   "source": [
    "neigh = KNeighborsClassifier(n_neighbors=3)\n",
    "cross_vals_nn = cross_val_score(neigh, train_X.values, train_y.values, cv=5)\n",
    "print cross_vals_nn\n",
    "neigh = neigh.fit(train_X.values, train_y.values)"
   ]
  },
  {
   "cell_type": "code",
   "execution_count": 10,
   "metadata": {
    "collapsed": false
   },
   "outputs": [
    {
     "data": {
      "text/plain": [
       "2.7182818284590451"
      ]
     },
     "execution_count": 10,
     "metadata": {},
     "output_type": "execute_result"
    }
   ],
   "source": []
  },
  {
   "cell_type": "code",
   "execution_count": null,
   "metadata": {
    "collapsed": true
   },
   "outputs": [],
   "source": []
  }
 ],
 "metadata": {
  "kernelspec": {
   "display_name": "Python 2",
   "language": "python",
   "name": "python2"
  },
  "language_info": {
   "codemirror_mode": {
    "name": "ipython",
    "version": 2
   },
   "file_extension": ".py",
   "mimetype": "text/x-python",
   "name": "python",
   "nbconvert_exporter": "python",
   "pygments_lexer": "ipython2",
   "version": "2.7.11"
  }
 },
 "nbformat": 4,
 "nbformat_minor": 0
}
