{
 "cells": [
  {
   "cell_type": "code",
   "execution_count": 1,
   "metadata": {
    "collapsed": false
   },
   "outputs": [
    {
     "name": "stdout",
     "output_type": "stream",
     "text": [
      "Populating the interactive namespace from numpy and matplotlib\n"
     ]
    }
   ],
   "source": [
    "%pylab inline"
   ]
  },
  {
   "cell_type": "code",
   "execution_count": 8,
   "metadata": {
    "collapsed": false
   },
   "outputs": [
    {
     "name": "stdout",
     "output_type": "stream",
     "text": [
      "[[    0.          1426.49360321]]\n"
     ]
    }
   ],
   "source": [
    "import numpy as np\n",
    "import scipy as sp\n",
    "import pandas as pd\n",
    "import matplotlib.pyplot as P\n",
    "\n",
    "def display_digit(df):\n",
    "    num = df.drop_duplicates('label')\n",
    "    v = num.drop('label', axis=1).values\n",
    "    r, _ = num.shape\n",
    "    imgs = map(lambda x :np.reshape(x, (28,28)), v)\n",
    "    fig = P.figure()\n",
    "    for i in range(r):\n",
    "        a = fig.add_subplot(2, r/2, i+1)\n",
    "        P.imshow(imgs[i])\n",
    "    P.savefig('numbers')\n",
    "    P.close()\n",
    "    return num.values\n",
    "\n",
    "### This function computes minimum distance\n",
    "### between 2 matrices passed between all pairs in those matrices\n",
    "def l2norm(a1, a2):\n",
    "    tp = np.empty((0,2))\n",
    "    fp = np.empty((0,2))\n",
    "    for i in xrange(a1.shape[0]):\n",
    "        mindist = \n",
    "        is_tp = 0\n",
    "        for j in xrange(a2.shape[0]):\n",
    "            dist = np.linalg.norm(a1[i][1:] - a2[j][1:])\n",
    "            if ((i != j) and (dist < mindist)):\n",
    "                mindist = dist\n",
    "                if (a1[i][0] == a2[j][0]):\n",
    "                    is_tp = 1\n",
    "                else:\n",
    "                    is_tp = 0\n",
    "        if (is_tp == 1):\n",
    "            tp = np.append(tp, np.array([[is_tp, mindist]]), axis = 0)\n",
    "        else:\n",
    "            fp = np.append(fp, np.array([[is_tp, mindist]]), axis = 0)\n",
    "    return (tp, fp)\n",
    "    \n",
    "if __name__ == '__main__': \n",
    "    df = pd.read_csv('train.csv', header = 0)\n",
    "    \n",
    "    #Write a function to display an MNIST digit. Display one of each digit\n",
    "    #  v = display_digit(df)\n",
    "    \n",
    "    #Examine the prior probability of the classes in the training data. \n",
    "    #Is it uniform across the digits?\n",
    "    # Display a normalized histogram of digit counts. Is it even?\n",
    "    \n",
    "    # P.figure()\n",
    "    #df['label'].plot(kind='hist', orientation='horizontal', cumulative=True)\n",
    "    #df['label'].hist()\n",
    "    #P.savefig('hist_plot')\n",
    "    #P.close()\n",
    "    #Pick one example of each digit from your training data. Then, for each sample digit, compute\n",
    "    #and show the best match (nearest neighbor) between your chosen sample and the rest of\n",
    "    #the training data. Use L2 distance between the two images’ pixel values as the metric. This\n",
    "    #probably won’t be perfect, so add an asterisk next to the erroneous examples.\n",
    "\n",
    "    \"\"\"train = df.values\n",
    "\n",
    "    empty_shape = np.shape(train[0][1:])\n",
    "\n",
    "    for i in xrange(v.shape[0]):\n",
    "        mindist = np.linalg.norm(v[i][1:])\n",
    "        val = np.empty(empty_shape)\n",
    "        for j in xrange(train.shape[0]):\n",
    "            dist = np.linalg.norm(v[i][1:] - train[j][1:])\n",
    "            if (dist > 0.0 and dist < mindist):\n",
    "                mindist = dist\n",
    "                val = train[j]\n",
    "        if (v[i][0] != val[0]):\n",
    "            print \"Min Distance \" + str(dist) + \" *Val \" + str(v[i][0]) + \" \" + str(val[0])\n",
    "        else:\n",
    "            print \"Min Distance \" + str(dist) + \" Val \" + str(v[i][0]) + \" \" + str(val[0])\n",
    "\n",
    "    \"\"\"\n",
    "\n",
    "    #Consider the case of binary comparison between the digits 0 and 1. Ignoring all the other\n",
    "    #digits, compute the pairwise distances for all genuine matches and all impostor matches,\n",
    "    #again using the L2 norm. Plot histograms of the genuine and impostor distances on the same\n",
    "    #set of axes. \n",
    "    df_0 = df.loc[df['label'] == 0]\n",
    "    df_1 = df.loc[df['label'] == 1]\n",
    "    df_0_1 = df_0.append(df_1).values\n",
    "    \n",
    "    ## Subsampling 100 rows to test further code\n",
    "    rows_0 = np.random.choice(df_0.index.values, 500)\n",
    "    rows_1 = np.random.choice(df_1.index.values, 500)\n",
    "    sample0_df = df_0.ix[rows_0]\n",
    "    sample1_df = df_1.ix[rows_1]\n",
    "    sample_0_1 = sample0_df.append(sample1_df).values\n",
    "    tp, fp = l2norm(sample_0_1, sample_0_1)\n",
    "    #tp, fp = l2norm(df_0_1, df_0_1)\n",
    "    print fp"
   ]
  },
  {
   "cell_type": "code",
   "execution_count": null,
   "metadata": {
    "collapsed": true
   },
   "outputs": [],
   "source": []
  },
  {
   "cell_type": "code",
   "execution_count": null,
   "metadata": {
    "collapsed": true
   },
   "outputs": [],
   "source": []
  }
 ],
 "metadata": {
  "kernelspec": {
   "display_name": "Python 2",
   "language": "python",
   "name": "python2"
  },
  "language_info": {
   "codemirror_mode": {
    "name": "ipython",
    "version": 2
   },
   "file_extension": ".py",
   "mimetype": "text/x-python",
   "name": "python",
   "nbconvert_exporter": "python",
   "pygments_lexer": "ipython2",
   "version": "2.7.10"
  }
 },
 "nbformat": 4,
 "nbformat_minor": 0
}
