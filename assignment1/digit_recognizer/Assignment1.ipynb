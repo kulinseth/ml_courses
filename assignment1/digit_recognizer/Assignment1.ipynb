{
 "cells": [
  {
   "cell_type": "code",
   "execution_count": 18,
   "metadata": {
    "collapsed": false
   },
   "outputs": [
    {
     "name": "stdout",
     "output_type": "stream",
     "text": [
      "Populating the interactive namespace from numpy and matplotlib\n"
     ]
    }
   ],
   "source": [
    "%pylab inline"
   ]
  },
  {
   "cell_type": "code",
   "execution_count": 32,
   "metadata": {
    "collapsed": false
   },
   "outputs": [
    {
     "name": "stdout",
     "output_type": "stream",
     "text": [
      "Min Distance 2177.98002746 Val 1 1\n",
      "Min Distance 3094.40802093 Val 0 0\n",
      "Min Distance 2178.54928794 Val 4 4\n",
      "Min Distance 1988.77550266 Val 7 7\n",
      "Min Distance 2384.5045607 *Val 3 5\n",
      "Min Distance 2469.7473555 Val 5 5\n",
      "Min Distance 2583.85545261 Val 8 8\n",
      "Min Distance 2122.97362207 Val 9 9\n",
      "Min Distance 2691.08435394 Val 2 2\n",
      "Min Distance 2420.30473288 Val 6 6\n"
     ]
    }
   ],
   "source": [
    "import numpy as np\n",
    "import scipy as sp\n",
    "import pandas as pd\n",
    "import matplotlib.pyplot as P\n",
    "\n",
    "def display_digit(df):\n",
    "    num = df.drop_duplicates('label')\n",
    "    v = num.drop('label', axis=1).values\n",
    "    r, _ = num.shape\n",
    "    imgs = map(lambda x :np.reshape(x, (28,28)), v)\n",
    "    fig = P.figure()\n",
    "    for i in range(r):\n",
    "        a = fig.add_subplot(2, r/2, i+1)\n",
    "        P.imshow(imgs[i])\n",
    "    P.close()\n",
    "    return num.values\n",
    "\n",
    "if __name__ == '__main__': \n",
    "    df = pd.read_csv('train.csv', header = 0)\n",
    "    \n",
    "    #Write a function to display an MNIST digit. Display one of each digit\n",
    "    v = display_digit(df)\n",
    "    \n",
    "    #Examine the prior probability of the classes in the training data. \n",
    "    #Is it uniform across the digits?\n",
    "    # Display a normalized histogram of digit counts. Is it even?\n",
    "    P.figure()\n",
    "    #df['label'].plot(kind='hist', orientation='horizontal', cumulative=True)\n",
    "    df['label'].hist()\n",
    "    P.close()\n",
    "    #Pick one example of each digit from your training data. Then, for each sample digit, compute\n",
    "    #and show the best match (nearest neighbor) between your chosen sample and the rest of\n",
    "    #the training data. Use L2 distance between the two images’ pixel values as the metric. This\n",
    "    #probably won’t be perfect, so add an asterisk next to the erroneous examples.\n",
    "    train = df.values\n",
    "\n",
    "    empty_shape = np.shape(train[0][1:])\n",
    "\n",
    "    for i in xrange(v.shape[0]):\n",
    "        mindist = np.linalg.norm(v[i][1:])\n",
    "        val = np.empty(empty_shape)\n",
    "        for j in xrange(train.shape[0]):\n",
    "            dist = np.linalg.norm(v[i][1:] - train[j][1:])\n",
    "            if (dist > 0.0 and dist < mindist):\n",
    "                mindist = dist\n",
    "                val = train[j]\n",
    "        if (v[i][0] != val[0]):\n",
    "            print \"Min Distance \" + str(dist) + \" *Val \" + str(v[i][0]) + \" \" + str(val[0])\n",
    "        else:\n",
    "            print \"Min Distance \" + str(dist) + \" Val \" + str(v[i][0]) + \" \" + str(val[0])\n",
    "    #Consider the case of binary comparison between the digits 0 and 1. Ignoring all the other\n",
    "    #digits, compute the pairwise distances for all genuine matches and all impostor matches,\n",
    "    #again using the L2 norm. Plot histograms of the genuine and impostor distances on the same\n",
    "    #set of axes. \n",
    "    "
   ]
  },
  {
   "cell_type": "code",
   "execution_count": null,
   "metadata": {
    "collapsed": true
   },
   "outputs": [],
   "source": []
  },
  {
   "cell_type": "code",
   "execution_count": null,
   "metadata": {
    "collapsed": true
   },
   "outputs": [],
   "source": []
  }
 ],
 "metadata": {
  "kernelspec": {
   "display_name": "Python 2",
   "language": "python",
   "name": "python2"
  },
  "language_info": {
   "codemirror_mode": {
    "name": "ipython",
    "version": 2
   },
   "file_extension": ".py",
   "mimetype": "text/x-python",
   "name": "python",
   "nbconvert_exporter": "python",
   "pygments_lexer": "ipython2",
   "version": "2.7.10"
  }
 },
 "nbformat": 4,
 "nbformat_minor": 0
}
