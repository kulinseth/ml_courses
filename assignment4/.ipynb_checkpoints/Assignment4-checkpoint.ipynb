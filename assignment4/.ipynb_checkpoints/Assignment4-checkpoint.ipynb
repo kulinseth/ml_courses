{
 "cells": [
  {
   "cell_type": "code",
   "execution_count": 1,
   "metadata": {
    "collapsed": true
   },
   "outputs": [],
   "source": [
    "%matplotlib inline"
   ]
  },
  {
   "cell_type": "markdown",
   "metadata": {},
   "source": [
    "### 1 (2)  Neural networks as function approximators.\n",
    "Design a feed-forward neural network to approximate the 1-dimensional function given in Fig. 1 on the following page. The output should match exactly. \n",
    "\n",
    "* How many hidden layers do you need? \n",
    "* How many units are there within each layer? Show the hidden layers, units, connections, weights, and biases.\n",
    "\n",
    "Use the ReLU nonlinearity for every unit. Every possible path from input to output must pass\n",
    "through the same number of layers. This means each layer should have the form:\n",
    "\n",
    "$Y_i = \\sigma(W_{i}Y_{i-1}^{T} + \\beta_i) $\n",
    "\n",
    "where\n",
    "\n",
    "$Y_i \\in \\mathbb{R}^{d_ix1}$\n",
    "    output of the ith layer\n",
    "    \n",
    "$W_i \\in \\mathbb{R}^{d_i x d_{i-1}}$\n",
    "\n",
    "weight matrix for that layer\n",
    "Y0 is x \n",
    "\n",
    "ReLU is defined as :\n",
    "\n",
    "$\\sigma(x) =  \n",
    "        \\begin{cases} \n",
    "            x & \\quad x>=0\\\\\n",
    "            0 & \\quad \\text{otherwise}\\\\\n",
    "        \\end{cases}\n",
    "$\n",
    "                  \n",
    "Writing out the figure as bunch of equations in form of ReLU units:\n",
    "\n",
    "$f(x) =  \n",
    "        \\begin{cases} \n",
    "            0*x         & \\quad 0<=x<=1\\\\\n",
    "            2*x - 2     & \\quad 1<=x<=2\\\\\n",
    "            1/3*x + 4/3 & \\quad 2<=x<=5\\\\\n",
    "            2*x-7       & \\quad 5<=x<=6\\\\\n",
    "            15-5/3*x    & \\quad 6<=x<=9\\\\\n",
    "            0*x         & \\quad 9<=x<=10\\\\\n",
    "        \\end{cases}\n",
    "$\n",
    "\n",
    "Rewriting the above equation in terms of the ReLU units:\n",
    "\n",
    "$f(x) =  \n",
    "        \\begin{cases} \n",
    "            \\sigma(0*x) &  \\\\\n",
    "            \\sigma(2*x - 2) - \\sigma(2*x - 4)         \\\\\n",
    "            \\sigma(1/3*x - 2/3) - \\sigma(1/3*x - 5/3) \\\\\n",
    "            \\sigma(2*x - 10) - \\sigma(2*x - 12)       \\\\\n",
    "            -\\sigma(5/3*x - 10) + \\sigma(5/3*x - 15)  \\\\\n",
    "        \\end{cases}\n",
    "$\n",
    "\n",
    "Now writing the weight and the bias vector for the Neural network. This will have :\n",
    "\n",
    "1 input layer with 1 neuron for input x\n",
    "1 hidden layer full-connected with 8 neurons\n",
    "1 output layer with 1 neuron for output y\n",
    "\n",
    "$$ W_{(input)(hidden)}    = [0, 2, 2, 1/3, 1/3, 2, 2, 5/3, 5/3]$$\n",
    "\n",
    "$$ W_{(hidden)(output)}^T = [1, 1, -1, 1, -1, 1, -1, -1, 1]$$\n",
    "\n",
    "$$ Bias_{(input)(hidden)} = [0, -2, -4, -2/3, -5/3, -10, -12, -10, -15]$$"
   ]
  },
  {
   "cell_type": "code",
   "execution_count": 72,
   "metadata": {
    "collapsed": false
   },
   "outputs": [
    {
     "name": "stdout",
     "output_type": "stream",
     "text": [
      "[[ 6.78012323]\n",
      " [ 4.16539049]\n",
      " [ 0.85232437]\n",
      " [ 6.56306553]\n",
      " [ 2.96442103]\n",
      " [ 5.87186193]\n",
      " [ 4.19612551]\n",
      " [ 9.11175632]\n",
      " [ 6.40105534]\n",
      " [ 2.57696867]] [[ 13.56024647]\n",
      " [  8.33078098]\n",
      " [  0.        ]\n",
      " [ 13.12613106]\n",
      " [  5.92884207]\n",
      " [ 11.74372387]\n",
      " [  8.39225101]\n",
      " [ 14.88824368]\n",
      " [ 12.80211067]\n",
      " [  5.15393734]]\n",
      "(8000, 1) (8000, 1)\n"
     ]
    },
    {
     "data": {
      "image/png": "[encoded data removed]",
      "text/plain": [
       "<matplotlib.figure.Figure at 0x7fafc02895d0>"
      ]
     },
     "metadata": {},
     "output_type": "display_data"
    }
   ],
   "source": [
    "import numpy as np\n",
    "import tensorflow as tf\n",
    "import matplotlib.pyplot as plt\n",
    "np.random.seed(1000)\n",
    "\n",
    "# Global configuration parameters for training the network\n",
    "learning_rate = 0.01\n",
    "training_epochs = 1000\n",
    "num_samples = 10000\n",
    "batch_size = 1000\n",
    "\n",
    "# Global configuration parameters for configuring the network\n",
    "n_input = 1\n",
    "n_output = 1\n",
    "n_hidden = 20\n",
    "train_test_split = 0.8\n",
    "train_size = int(train_test_split*num_samples)\n",
    "\n",
    "def fn(x):\n",
    "    if ((x) <= 1.0):\n",
    "        return 0.0\n",
    "    elif ((x) > 1.0 and (x) <= 2.0):\n",
    "        return (2.0*x -2.0)\n",
    "    elif ((x) > 2.0 and (x) <= 5.0):\n",
    "        return (0.3333*x + 1.3333)\n",
    "    elif ((x) > 5.0 and (x) <= 6.0 ):\n",
    "        return (2.0*x -7.0)\n",
    "    elif ((x) > 6.0 and (x) <= 9.0):\n",
    "        return (15.0 - 1.6666*x)\n",
    "    elif ((x) > 9.0):\n",
    "        return 0.0\n",
    "def fn1(x):\n",
    "    if (x <= 1.0):\n",
    "        return 0.0\n",
    "    elif ((x > 1.0) and (x <= 8.0)) :\n",
    "        return 2.0*x\n",
    "    elif (x > 8.0):\n",
    "        return 24.0 - x\n",
    "\n",
    "# Check the shape of the input is as expected\n",
    "xval = np.float32(np.random.uniform(0.0, 10.0, num_samples))  # 8000 training examples\n",
    "xval = np.reshape(xval, (num_samples, 1))\n",
    "np.random.shuffle(xval)\n",
    "npfn = np.vectorize(fn1)\n",
    "xtrain = xval[:train_size]\n",
    "xtest = xval[train_size:]\n",
    "ytrain = npfn(xtrain)\n",
    "ytest = npfn(xtest)\n",
    "#ytrain = np.float32([fn1(tmp) for tmp in xtrain])\n",
    "#ytest = np.float32([fn1(tmp) for tmp in xtest])\n",
    "print xtrain[:10], ytrain[:10]\n",
    "print xtrain.shape, ytrain.shape\n",
    "plt.plot(xtrain[:], ytrain[:])\n",
    "plt.show()"
   ]
  },
  {
   "cell_type": "code",
   "execution_count": 73,
   "metadata": {
    "collapsed": false
   },
   "outputs": [],
   "source": [
    "tf.set_random_seed(1234)\n",
    "#Function for the model of NN\n",
    "def model(inputs, weights, biases):\n",
    "    \"\"\" \n",
    "        Single layer perceptron with ReLU activation\n",
    "    \"\"\"\n",
    "    layer = tf.nn.relu(tf.add(tf.matmul(inputs, weights['h01']), biases['b01']))\n",
    "    return tf.add(tf.matmul(layer, weights['out']), biases['out'])\n",
    "\n",
    "# Step0 - Preprocessing and setting up the Graph\n",
    "x = tf.placeholder(tf.float32, shape=(None, 1), name=\"X\")  # Input is 1-D dimensional variable\n",
    "y = tf.placeholder(tf.float32, shape=(None, 1), name=\"Y\")  # Output is 1-D dimentional variable\n",
    "\n",
    "W = {'h01': tf.Variable(tf.random_normal([n_input, n_hidden], stddev=0.01, dtype=tf.float32)),\n",
    "     'out': tf.Variable(tf.random_normal([n_hidden, n_input], stddev=0.01, dtype=tf.float32))\n",
    "     }\n",
    "b = {'b01': tf.Variable(tf.zeros([n_input,n_hidden], dtype=tf.float32)),\n",
    "     'out': tf.Variable(tf.zeros([n_output, n_output], dtype=tf.float32))\n",
    "    }\n",
    "\n",
    "# Step1 - Construct the model\n",
    "pred = model(x, W, b)\n",
    "\n",
    "# Step2 - Define loss\n",
    "cost = tf.nn.l2_loss(pred-y)\n",
    "\n",
    "# Step3 - Optimizer\n",
    "opt = tf.train.AdamOptimizer().minimize(cost)\n",
    "\n",
    "# Step4 - Training\n",
    "init = tf.initialize_all_variables()\n",
    "\n"
   ]
  },
  {
   "cell_type": "code",
   "execution_count": 74,
   "metadata": {
    "collapsed": false
   },
   "outputs": [
    {
     "name": "stdout",
     "output_type": "stream",
     "text": [
      "Epoch: 0001 cost= 116347.148437500\n",
      "Epoch: 0101 cost= 1691.350585938\n",
      "Epoch: 0201 cost= 1541.190795898\n",
      "Epoch: 0301 cost= 1494.390869141\n",
      "Epoch: 0401 cost= 1489.936401367\n",
      "Epoch: 0501 cost= 1489.958129883\n",
      "Epoch: 0601 cost= 1489.941040039\n",
      "Epoch: 0701 cost= 1489.901977539\n",
      "Epoch: 0801 cost= 1489.853393555\n",
      "Epoch: 0901 cost= 1489.800415039\n",
      "Done\n",
      "[[  8.50089455]\n",
      " [ 13.82581234]\n",
      " [  4.32981825]\n",
      " [ 15.88563347]\n",
      " [  1.89020181]\n",
      " [  4.58699036]\n",
      " [  4.20745134]\n",
      " [  1.23783517]\n",
      " [ 10.85723209]\n",
      " [ 16.47042847]]\n",
      "(2000, 1)\n"
     ]
    },
    {
     "data": {
      "image/png": "[encoded data removed]",
      "text/plain": [
       "<matplotlib.figure.Figure at 0x7fafb2c4bc10>"
      ]
     },
     "metadata": {},
     "output_type": "display_data"
    }
   ],
   "source": [
    "with tf.Session() as sess:\n",
    "    sess.run(init)\n",
    "    \n",
    "    # Set logs writer into folder /tmp/tensorflow_logs\n",
    "    # summary_writer = tf.train.SummaryWriter('/tmp/tensorflow_logs', graph_def=sess.graph_def)\n",
    "    for epoch in range(training_epochs):\n",
    "        num_batches = xtrain.shape[0]/batch_size\n",
    "        \n",
    "        for i in range(num_batches):\n",
    "            # Fit training running using data\n",
    "            batchX = xtrain[i*batch_size:(i+1)*batch_size]\n",
    "            batchY = ytrain[i*batch_size:(i+1)*batch_size]\n",
    "            sess.run(opt, feed_dict={x:batchX, y:batchY})\n",
    "        \n",
    "        # compute loss\n",
    "        c = sess.run(tf.nn.l2_loss(pred-ytest), feed_dict={x:xtest})\n",
    "        if (epoch % 100 == 0):\n",
    "            print \"Epoch:\", '%04d' % (epoch+1), \"cost=\", \"{:.9f}\".format(c)\n",
    "        #print \"Pred : \", (p[:10])\n",
    "    \n",
    "    print \"Done\"\n",
    "    p = sess.run(pred, feed_dict={x:xtest, y:ytest})\n",
    "    print p[0:10]\n",
    "    print p.shape\n",
    "    plt.plot(xtest, p)\n",
    "    plt.show()\n",
    "    \n",
    "    \"\"\"\n",
    "    print \"cost=\", sess.run(cost, feed_dict={x:xtrain, y:ytrain}), \\\n",
    "        \"W=\", sess.run(W['h01']), \"b=\", sess.run(b['b01'])\n",
    "    # Step5 - Testing\n",
    "    correct_prediction = tf.less(tf.abs(tf.sub(pred, y)), 1)\n",
    "    \n",
    "    # Accuracy\n",
    "    accuracy = tf.reduce_mean(tf.cast(correct_prediction, \"float\"))\n",
    "    print \"Accuracy: \", accuracy.eval({x:xtest, y:ytest})\n",
    "    \"\"\""
   ]
  },
  {
   "cell_type": "code",
   "execution_count": null,
   "metadata": {
    "collapsed": true
   },
   "outputs": [],
   "source": []
  }
 ],
 "metadata": {
  "kernelspec": {
   "display_name": "Python 2",
   "language": "python",
   "name": "python2"
  },
  "language_info": {
   "codemirror_mode": {
    "name": "ipython",
    "version": 2
   },
   "file_extension": ".py",
   "mimetype": "text/x-python",
   "name": "python",
   "nbconvert_exporter": "python",
   "pygments_lexer": "ipython2",
   "version": "2.7.6"
  }
 },
 "nbformat": 4,
 "nbformat_minor": 0
}
