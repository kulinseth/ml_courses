{
 "cells": [
  {
   "cell_type": "code",
   "execution_count": 23,
   "metadata": {
    "collapsed": true
   },
   "outputs": [],
   "source": [
    "# Modified from: http://nbviewer.jupyter.org/urls/cs287.github.io/Lectures/notebooks/vectors.ipynb\n",
    "\n",
    "%matplotlib inline"
   ]
  },
  {
   "cell_type": "code",
   "execution_count": 24,
   "metadata": {
    "collapsed": true
   },
   "outputs": [],
   "source": [
    "import numpy as np\n",
    "from numpy.linalg import norm"
   ]
  },
  {
   "cell_type": "code",
   "execution_count": 26,
   "metadata": {
    "collapsed": false
   },
   "outputs": [],
   "source": [
    "import gzip\n",
    "words = []\n",
    "vectors = []\n",
    "\n",
    "# Word embeddings coming from https://nlp.stanford.edu/projects/glove/\n",
    "for l in open(\"glove.6B.50d.txt\"):\n",
    "    t = l.strip().split()\n",
    "    words.append(t[0])\n",
    "    vectors.append(list(map(float, t[1:])))"
   ]
  },
  {
   "cell_type": "code",
   "execution_count": 27,
   "metadata": {
    "collapsed": false
   },
   "outputs": [],
   "source": [
    "wordvecs = np.array(vectors, dtype=np.double)\n",
    "word2id = {word:i for i, word in enumerate(words)}"
   ]
  },
  {
   "cell_type": "code",
   "execution_count": 28,
   "metadata": {
    "collapsed": false
   },
   "outputs": [
    {
     "data": {
      "text/plain": [
       "3264"
      ]
     },
     "execution_count": 28,
     "metadata": {},
     "output_type": "execute_result"
    }
   ],
   "source": [
    "word2id[\"athens\"]"
   ]
  },
  {
   "cell_type": "code",
   "execution_count": 49,
   "metadata": {
    "collapsed": false
   },
   "outputs": [
    {
     "data": {
      "text/plain": [
       "array([-0.053903, -0.30871 , -1.3285  , -0.43342 ,  0.31779 ,  1.5224  ,\n",
       "       -0.6965  , -0.037086, -0.83784 ,  0.074107, -0.30532 , -0.1783  ,\n",
       "        1.2337  ,  0.085473,  0.17362 , -0.19001 ,  0.36907 ,  0.49454 ,\n",
       "       -0.024311, -1.0535  ,  0.5237  , -1.1489  ,  0.95093 ,  1.1538  ,\n",
       "       -0.52286 , -0.14931 , -0.97614 ,  1.3912  ,  0.79875 , -0.72134 ,\n",
       "        1.5411  , -0.15928 , -0.30472 ,  1.7265  ,  0.13124 , -0.054023,\n",
       "       -0.74212 ,  1.675   ,  1.9502  , -0.53274 ,  1.1359  ,  0.20027 ,\n",
       "        0.02245 , -0.39379 ,  1.0609  ,  1.585   ,  0.17889 ,  0.43556 ,\n",
       "        0.68161 ,  0.066202])"
      ]
     },
     "execution_count": 49,
     "metadata": {},
     "output_type": "execute_result"
    }
   ],
   "source": [
    "wordvecs[word2id[\"cheese\"]]"
   ]
  },
  {
   "cell_type": "code",
   "execution_count": 34,
   "metadata": {
    "collapsed": false
   },
   "outputs": [],
   "source": [
    "def nearest(vec, dot=False):\n",
    "    vnorm = norm(vec)\n",
    "    scores = []\n",
    "    for i in range(len(words)):\n",
    "        wvnorm = norm(wordvecs[i])\n",
    "        if not dot:\n",
    "            scores.append(np.dot(wordvecs[i], vec) / (vnorm * wvnorm))\n",
    "        else:\n",
    "            scores.append(np.dot(wordvecs[i], vec))\n",
    "    score_ids = [(s, i) for i, s in enumerate(scores)]\n",
    "    score_ids.sort()\n",
    "    score_ids.reverse()\n",
    "    return score_ids\n",
    "def print_nbest(embedding):\n",
    "    closests = nearest(embedding)\n",
    "    for score, i in closests[:20]:\n",
    "        print(\"%s\\t%s\"%(words[i],score))\n",
    "def print_neighbors(word):\n",
    "    print_nbest(wordvecs[word2id[word]])"
   ]
  },
  {
   "cell_type": "code",
   "execution_count": 51,
   "metadata": {
    "collapsed": false
   },
   "outputs": [
    {
     "name": "stdout",
     "output_type": "stream",
     "text": [
      "mit\t1.0\n",
      "harvard\t0.756947340987\n",
      "princeton\t0.750007940354\n",
      "caltech\t0.749890100201\n",
      "yale\t0.729205607001\n",
      "phd\t0.711987073621\n",
      "sloan\t0.707940531402\n",
      "doctoral\t0.698336221499\n",
      "graduate\t0.698005290895\n",
      "cornell\t0.688826629052\n",
      "ph.d.\t0.688007126867\n",
      "postdoctoral\t0.675413038489\n",
      "uw\t0.673567199438\n",
      "nyu\t0.66596287673\n",
      "physics\t0.662308351179\n",
      "science\t0.660250749235\n",
      "institute\t0.659196857903\n",
      "berkeley\t0.655252267135\n",
      "lab\t0.653446051466\n",
      "thesis\t0.65152319993\n"
     ]
    }
   ],
   "source": [
    "print_neighbors(\"mit\")"
   ]
  },
  {
   "cell_type": "code",
   "execution_count": 32,
   "metadata": {
    "collapsed": true
   },
   "outputs": [],
   "source": [
    "def analogy_vec(a, b, c):\n",
    "    return wordvecs[word2id[b]] - wordvecs[word2id[a]] + wordvecs[word2id[c]]"
   ]
  },
  {
   "cell_type": "code",
   "execution_count": 56,
   "metadata": {
    "collapsed": false
   },
   "outputs": [
    {
     "name": "stdout",
     "output_type": "stream",
     "text": [
      "vajiravudh\t0.761330384762\n",
      "jeongjo\t0.758159417773\n",
      "prajadhipok\t0.743890995435\n",
      "andrianampoinimerina\t0.723369781608\n",
      "seonjo\t0.722704060066\n",
      "coloman\t0.711871875539\n",
      "jangsu\t0.710504481457\n",
      "gojong\t0.709680872128\n",
      "taejong\t0.704768175043\n",
      "bimbisara\t0.695957450457\n",
      "seongjong\t0.692696636436\n",
      "leovigild\t0.691435717224\n",
      "yeongjo\t0.690186721164\n",
      "athelstan\t0.689475151987\n",
      "injo\t0.684838116224\n",
      "taksin\t0.684478966383\n",
      "kalākaua\t0.683567119676\n",
      "dutugemunu\t0.676528135151\n",
      "andriamanelo\t0.675922552231\n",
      "kotte\t0.674908825303\n"
     ]
    }
   ],
   "source": [
    "d = analogy_vec(\"king\", \"queen\", \"man\")\n",
    "#print d\n",
    "#print_nbest(d)\n",
    "print_nbest(wordvecs[word2id[\"king\"]]-wordvecs[word2id[\"man\"]])"
   ]
  },
  {
   "cell_type": "code",
   "execution_count": 39,
   "metadata": {
    "collapsed": false
   },
   "outputs": [
    {
     "name": "stdout",
     "output_type": "stream",
     "text": [
      "oslo\t0.800940880805\n",
      "norway\t0.724581222223\n",
      "cyprus\t0.710603502924\n",
      "accord\t0.67236605952\n",
      "iceland\t0.669985509136\n",
      "pact\t0.668983334486\n",
      "accords\t0.66773110168\n",
      "palestine\t0.666339553777\n",
      "brokered\t0.656774460813\n",
      "agreement\t0.654591264655\n",
      "norwegian\t0.65360254298\n",
      "treaty\t0.642123535162\n",
      "ankara\t0.641830299428\n",
      "copenhagen\t0.632054092737\n",
      "greece\t0.631164428988\n",
      "malta\t0.628695581307\n",
      "cypriots\t0.628685760459\n",
      "accession\t0.62584522837\n",
      "plo\t0.624709159735\n",
      "baltic\t0.61372345483\n"
     ]
    }
   ],
   "source": [
    "d = analogy_vec(\"athens\", \"greece\", \"oslo\")\n",
    "print_nbest(d)\n"
   ]
  },
  {
   "cell_type": "code",
   "execution_count": 40,
   "metadata": {
    "collapsed": true
   },
   "outputs": [],
   "source": [
    "to_show = [w.lower() for w in [\"london\", \"england\",\n",
    "\"Athens\", \"Greece\",\n",
    "\"Berlin\",\"Germany\",\n",
    "\"Madrid\",\"Spain\",\n",
    "\"Rome\",\"Italy\",\n",
    "\"Paris\",\"France\",\n",
    "\"Bucharest\", \"Romania\",\n",
    "\"Budapest\", \"Hungary\",\n",
    "\"Vienna\", \"Austria\",\n",
    "\"Warsaw\", \"Poland\"]]\n",
    "\n",
    "to_show_vecs = [wordvecs[word2id[w]] for w in to_show ]\n"
   ]
  },
  {
   "cell_type": "code",
   "execution_count": 41,
   "metadata": {
    "collapsed": true
   },
   "outputs": [],
   "source": [
    "to_show = [w.lower() for w in [\"woods\", \"golf\",\n",
    "\"agassi\", \"tennis\",\n",
    "\"bonds\",\"baseball\",\n",
    "\"manning\", \"football\",\n",
    "\"gretzky\",\"hockey\",\n",
    "\"jordan\",\"basketball\"\n",
    "]]\n",
    "\n",
    "to_show_vecs = [wordvecs[word2id[w]] for w in to_show ]\n"
   ]
  },
  {
   "cell_type": "code",
   "execution_count": 43,
   "metadata": {
    "collapsed": false
   },
   "outputs": [],
   "source": [
    "import sklearn.decomposition\n",
    "t = sklearn.decomposition.PCA(2)\n",
    "X_pca = t.fit_transform(to_show_vecs)"
   ]
  },
  {
   "cell_type": "code",
   "execution_count": 44,
   "metadata": {
    "collapsed": false
   },
   "outputs": [],
   "source": [
    "import matplotlib.pyplot as plt\n",
    "from matplotlib import offsetbox"
   ]
  },
  {
   "cell_type": "code",
   "execution_count": 45,
   "metadata": {
    "collapsed": false
   },
   "outputs": [],
   "source": [
    "def plot_embedding(X, words, title=None, size=(3,3)):\n",
    "    x_min, x_max = np.min(X, 0), np.max(X, 0)\n",
    "    X = (X - x_min) / (x_max - x_min)\n",
    "\n",
    "    plt.figure(figsize=size)\n",
    "    ax = plt.subplot(111)\n",
    "    ids = {}\n",
    "    \n",
    "\n",
    "    for i in range(X.shape[0]):\n",
    "        letter = words[i]\n",
    "        ax.plot(X[i, 0], X[i, 1],\".\")\n",
    "        ax.annotate(letter, (X[i, 0], X[i, 1]), fontsize=30) \n",
    "        if i % 2 == 0:\n",
    "            ax.plot((X[i,0], X[i+1,0]), (X[i,1], X[i+1,1]))           \n",
    "\n",
    "    plt.xticks([]), plt.yticks([])\n",
    "    plt.axis('off')\n",
    "    \n",
    "    if title is not None:\n",
    "        plt.title(title)\n",
    "    plt.subplots_adjust(left=-0.2, right=1.2, top=1.2, bottom=-0.2)\n",
    "    #plt.savefig(\"linear.png\", dpi=100)"
   ]
  },
  {
   "cell_type": "code",
   "execution_count": 46,
   "metadata": {
    "collapsed": false
   },
   "outputs": [
    {
     "data": {
      "image/png": "[encoded data removed]",
      "text/plain": [
       "<matplotlib.figure.Figure at 0x109287a10>"
      ]
     },
     "metadata": {},
     "output_type": "display_data"
    }
   ],
   "source": [
    "plot_embedding(X_pca, to_show, size=(10,10))"
   ]
  }
 ],
 "metadata": {
  "kernelspec": {
   "display_name": "Python 2",
   "language": "python",
   "name": "python2"
  },
  "language_info": {
   "codemirror_mode": {
    "name": "ipython",
    "version": 2
   },
   "file_extension": ".py",
   "mimetype": "text/x-python",
   "name": "python",
   "nbconvert_exporter": "python",
   "pygments_lexer": "ipython2",
   "version": "2.7.10"
  }
 },
 "nbformat": 4,
 "nbformat_minor": 0
}
