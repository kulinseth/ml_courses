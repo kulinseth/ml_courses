{
 "cells": [
  {
   "cell_type": "markdown",
   "metadata": {},
   "source": [
    "## Linear Basis Function Regression\n",
    "\n",
    "The closed form solution for the maximum likelihood weight vector is given by:\n",
    "\n",
    "$$ w_{ML} = (\\phi^T\\phi)^{-1}\\phi^{T}t $$\n",
    "\n",
    "The data is generated using :\n",
    "\n",
    "$$ y(x) = cos(\\pi x) + 1.5cos(2\\pi x)$$\n",
    "and hence:\n",
    "$$t = y(x,w) + \\epsilon$$\n",
    "\n",
    "where is $\\epsilon$ is added noise. Assuming we don't know the real basis for these points and want to try polynomial fitting to the provided dataset. The polynomial basis is given by:\n",
    "\n",
    "$$ \\phi_0(x) = 1, \\phi_1(x) = x ..., \\phi_M(x) = x^M$$\n",
    "\n",
    "The procedure to compute the MLE estimate is:\n",
    "1. The Likelihood function is given by \n",
    "$$ E_D(w) = ... $$\n",
    "The derivative of which leads to the closed form solution above. To evaluate the $w_ML$ gradient descent methods are used. Using the batch gradient descent method which iterates over the entire dataset\n",
    "$$w^{\\tau +1} = w_{\\tau} - \\eta \\nabla_w E_D(w)$$\n",
    "\n",
    "where $\\eta$ is the learning rate.\n"
   ]
  },
  {
   "cell_type": "code",
   "execution_count": null,
   "metadata": {
    "collapsed": true
   },
   "outputs": [],
   "source": [
    "%matplotlib inline\n",
    "import numpy as np\n",
    "import numpy as np\n",
    "import pandas as pd\n",
    "import seaborn as sns\n",
    "import scikit-learn as sk\n",
    "\n",
    "if __name__ == '__main__'\n",
    "    main()"
   ]
  }
 ],
 "metadata": {
  "kernelspec": {
   "display_name": "Python 2",
   "language": "python",
   "name": "python2"
  },
  "language_info": {
   "codemirror_mode": {
    "name": "ipython",
    "version": 2
   },
   "file_extension": ".py",
   "mimetype": "text/x-python",
   "name": "python",
   "nbconvert_exporter": "python",
   "pygments_lexer": "ipython2",
   "version": "2.7.13"
  }
 },
 "nbformat": 4,
 "nbformat_minor": 2
}
