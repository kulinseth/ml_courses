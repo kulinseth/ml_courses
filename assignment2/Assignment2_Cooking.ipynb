{
 "cells": [
  {
   "cell_type": "code",
   "execution_count": 2,
   "metadata": {
    "collapsed": false
   },
   "outputs": [
    {
     "name": "stdout",
     "output_type": "stream",
     "text": [
      "       cuisine     id                                        ingredients\n",
      "0        greek  10259  [romaine lettuce, black olives, grape tomatoes...\n",
      "1  southern_us  25693  [plain flour, ground pepper, salt, tomatoes, g...\n",
      "2     filipino  20130  [eggs, pepper, salt, mayonaise, cooking oil, g...\n",
      "3       indian  22213                [water, vegetable oil, wheat, salt]\n",
      "4       indian  13162  [black pepper, shallots, cornflour, cayenne pe...\n",
      "Total count of recipes in training set 39774\n",
      "Types of cuisines 20\n",
      "No. of unique ingredients 6714\n",
      "(39774, 6714)\n"
     ]
    }
   ],
   "source": [
    "import pandas as pd\n",
    "import numpy as np\n",
    "\n",
    "def find_indices(l, unique_ingredients):\n",
    "    return [i for i, x in enumerate(list(unique_ingredients)) if x in l]\n",
    "\n",
    "\n",
    "\"\"\"\n",
    "Represent each dish by a binary ingredient feature vector. Suppose there are d different ingredients\n",
    "in total, represent each dish by a 1×d binary ingredient vector x, where xi = 1 if the\n",
    "dish contains ingredient i and xi = 0 otherwise. For example, suppose all the ingredients we\n",
    "\"\"\"\n",
    "def gen_vector(l, unique_ingredients, n_ingredients):\n",
    "    z_vector = np.zeros(n_ingredients)\n",
    "    z_vector[find_indices(l, unique_ingredients)] = 1\n",
    "    return z_vector\n",
    "    \n",
    "    \n",
    "if __name__ == '__main__':\n",
    "    training_df = pd.read_json('train.json')\n",
    "    test_df     = pd.read_json('test.json')\n",
    "    print training_df.head()\n",
    "    # print test_df.head()\n",
    "    \n",
    "    \"\"\"\n",
    "    Tell us about the data. How many samples (dishes) are there in the training set? How many\n",
    "    categories (types of cuisine)? Use a list to keep all the unique ingredients appearing in the\n",
    "    training set. How many unique ingredients are there?\n",
    "    \"\"\"\n",
    "    print \"Total count of recipes in training set \" + str(training_df.shape[0])\n",
    "    print \"Types of cuisines \" + str(training_df['cuisine'].unique().shape[0])\n",
    "    unique_ingredients = set()\n",
    "    training_df['ingredients'].apply(unique_ingredients.update)\n",
    "    n_ingredients = len(unique_ingredients)\n",
    "    print \"No. of unique ingredients \" + str(n_ingredients)\n",
    "    \n",
    "    X = np.array([gen_vector(l, unique_ingredients, n_ingredients) for l in training_df['ingredients']])\n",
    "    print X.shape\n"
   ]
  },
  {
   "cell_type": "code",
   "execution_count": 10,
   "metadata": {
    "collapsed": false
   },
   "outputs": [
    {
     "name": "stdout",
     "output_type": "stream",
     "text": [
      "(9944, 6714)\n",
      "[u'brazilian' u'southern_us' u'moroccan' ..., u'italian' u'cajun_creole'\n",
      " u'spanish']\n"
     ]
    },
    {
     "ename": "NameError",
     "evalue": "name 'train_X' is not defined",
     "output_type": "error",
     "traceback": [
      "\u001b[1;31m---------------------------------------------------------------------------\u001b[0m",
      "\u001b[1;31mNameError\u001b[0m                                 Traceback (most recent call last)",
      "\u001b[1;32m<ipython-input-10-f55d58747483>\u001b[0m in \u001b[0;36m<module>\u001b[1;34m()\u001b[0m\n\u001b[0;32m     13\u001b[0m     \u001b[1;32mprint\u001b[0m \u001b[0mtest_X\u001b[0m\u001b[1;33m.\u001b[0m\u001b[0mshape\u001b[0m\u001b[1;33m\u001b[0m\u001b[0m\n\u001b[0;32m     14\u001b[0m     \u001b[1;32mprint\u001b[0m \u001b[0mnaive_bayes_classifier\u001b[0m\u001b[1;33m(\u001b[0m\u001b[0mX\u001b[0m\u001b[1;33m,\u001b[0m \u001b[0mtraining_df\u001b[0m\u001b[1;33m[\u001b[0m\u001b[1;34m'cuisine'\u001b[0m\u001b[1;33m]\u001b[0m\u001b[1;33m,\u001b[0m \u001b[0mtest_X\u001b[0m\u001b[1;33m,\u001b[0m \u001b[0mGaussianNB\u001b[0m\u001b[1;33m(\u001b[0m\u001b[1;33m)\u001b[0m\u001b[1;33m)\u001b[0m\u001b[1;33m\u001b[0m\u001b[0m\n\u001b[1;32m---> 15\u001b[1;33m     \u001b[0mscores\u001b[0m \u001b[1;33m=\u001b[0m \u001b[0mcross_validation\u001b[0m\u001b[1;33m.\u001b[0m\u001b[0mcross_val_score\u001b[0m\u001b[1;33m(\u001b[0m\u001b[0mGaussianNB\u001b[0m\u001b[1;33m(\u001b[0m\u001b[1;33m)\u001b[0m\u001b[1;33m,\u001b[0m \u001b[0mtrain_X\u001b[0m\u001b[1;33m,\u001b[0m \u001b[0mtrain_Y\u001b[0m\u001b[1;33m,\u001b[0m \u001b[0mcv\u001b[0m\u001b[1;33m=\u001b[0m\u001b[1;36m3\u001b[0m\u001b[1;33m)\u001b[0m\u001b[1;33m\u001b[0m\u001b[0m\n\u001b[0m\u001b[0;32m     16\u001b[0m     \u001b[1;32mprint\u001b[0m \u001b[0mscores\u001b[0m\u001b[1;33m\u001b[0m\u001b[0m\n",
      "\u001b[1;31mNameError\u001b[0m: name 'train_X' is not defined"
     ]
    }
   ],
   "source": [
    "from sklearn.naive_bayes import GaussianNB, MultinomialNB, BernoulliNB\n",
    "from sklearn import cross_validation\n",
    "\"\"\"\n",
    "Using Naïve Bayes Classifier to perform 3 fold cross-validation on the training set and report\n",
    "your average classification accuracy. Try both Gaussian distribution prior assumption and\n",
    "Bernoulli distribution prior assumption.\n",
    "\"\"\"\n",
    "def naive_bayes_classifier(train_X, train_Y, test_X, f):\n",
    "    return f.fit(train_X, train_Y).predict(test_X)\n",
    "\n",
    "if __name__ == '__main__':\n",
    "    test_X = np.array([gen_vector(l, unique_ingredients, n_ingredients) for l in test_df['ingredients']])\n",
    "    print test_X.shape\n",
    "    print naive_bayes_classifier(X, training_df['cuisine'], test_X, GaussianNB())\n"
   ]
  },
  {
   "cell_type": "code",
   "execution_count": 12,
   "metadata": {
    "collapsed": false
   },
   "outputs": [
    {
     "name": "stdout",
     "output_type": "stream",
     "text": [
      "[ 0.38113549  0.38524776  0.38009357] [ 0.68302797  0.68225356  0.68548144] [ 0.68302797  0.68225356  0.68548144]\n"
     ]
    }
   ],
   "source": [
    "if __name__ == '__main__':\n",
    "    scores_gaussian = cross_validation.cross_val_score(GaussianNB(), X, training_df['cuisine'], cv=3)\n",
    "    scores_bernoulli = cross_validation.cross_val_score(BernoulliNB(), X, training_df['cuisine'], cv=3)\n",
    "    scores_multi = cross_validation.cross_val_score(BernoulliNB(), X, training_df['cuisine'], cv=3)\n",
    "    print scores_gaussian, scores_bernoulli, scores_multi"
   ]
  },
  {
   "cell_type": "code",
   "execution_count": null,
   "metadata": {
    "collapsed": true
   },
   "outputs": [],
   "source": []
  }
 ],
 "metadata": {
  "kernelspec": {
   "display_name": "Python 2",
   "language": "python",
   "name": "python2"
  },
  "language_info": {
   "codemirror_mode": {
    "name": "ipython",
    "version": 2
   },
   "file_extension": ".py",
   "mimetype": "text/x-python",
   "name": "python",
   "nbconvert_exporter": "python",
   "pygments_lexer": "ipython2",
   "version": "2.7.10"
  }
 },
 "nbformat": 4,
 "nbformat_minor": 0
}
